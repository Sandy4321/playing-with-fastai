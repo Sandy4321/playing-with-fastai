{
 "cells": [
  {
   "cell_type": "code",
   "execution_count": 1,
   "metadata": {
    "ExecuteTime": {
     "end_time": "2017-12-08T15:04:26.887279Z",
     "start_time": "2017-12-08T15:04:26.598038Z"
    }
   },
   "outputs": [],
   "source": [
    "%matplotlib inline\n",
    "%reload_ext autoreload\n",
    "%autoreload 2"
   ]
  },
  {
   "cell_type": "code",
   "execution_count": 2,
   "metadata": {
    "ExecuteTime": {
     "end_time": "2017-12-08T15:04:28.124214Z",
     "start_time": "2017-12-08T15:04:26.889227Z"
    }
   },
   "outputs": [],
   "source": [
    "import torch\n",
    "from fastai.structured import *\n",
    "from fastai.column_data import *\n",
    "np.set_printoptions(threshold=50, edgeitems=20)\n",
    "\n",
    "PATH='data/rossmann/'"
   ]
  },
  {
   "cell_type": "markdown",
   "metadata": {
    "heading_collapsed": true
   },
   "source": [
    "# Loading the model"
   ]
  },
  {
   "cell_type": "code",
   "execution_count": 3,
   "metadata": {
    "ExecuteTime": {
     "end_time": "2017-12-08T15:04:29.043587Z",
     "start_time": "2017-12-08T15:04:28.126625Z"
    },
    "hidden": true
   },
   "outputs": [],
   "source": [
    "joined = pd.read_feather(f'{PATH}joined')\n",
    "joined_test = pd.read_feather(f'{PATH}joined_test')"
   ]
  },
  {
   "cell_type": "code",
   "execution_count": 4,
   "metadata": {
    "ExecuteTime": {
     "end_time": "2017-12-08T15:04:29.077402Z",
     "start_time": "2017-12-08T15:04:29.045163Z"
    },
    "hidden": true
   },
   "outputs": [
    {
     "data": {
      "text/plain": [
       "844338"
      ]
     },
     "execution_count": 4,
     "metadata": {},
     "output_type": "execute_result"
    }
   ],
   "source": [
    "cat_vars = ['Store', 'DayOfWeek', 'Year', 'Month', 'Day', 'StateHoliday', 'CompetitionMonthsOpen',\n",
    "    'Promo2Weeks', 'StoreType', 'Assortment', 'PromoInterval', 'CompetitionOpenSinceYear', 'Promo2SinceYear',\n",
    "    'State', 'Week', 'Events', 'Promo_fw', 'Promo_bw', 'StateHoliday_fw', 'StateHoliday_bw',\n",
    "    'SchoolHoliday_fw', 'SchoolHoliday_bw']\n",
    "\n",
    "contin_vars = ['CompetitionDistance', 'Max_TemperatureC', 'Mean_TemperatureC', 'Min_TemperatureC',\n",
    "   'Max_Humidity', 'Mean_Humidity', 'Min_Humidity', 'Max_Wind_SpeedKm_h', \n",
    "   'Mean_Wind_SpeedKm_h', 'CloudCover', 'trend', 'trend_DE',\n",
    "   'AfterStateHoliday', 'BeforeStateHoliday', 'Promo', 'SchoolHoliday']\n",
    "\n",
    "n = len(joined); n"
   ]
  },
  {
   "cell_type": "code",
   "execution_count": 5,
   "metadata": {
    "ExecuteTime": {
     "end_time": "2017-12-08T15:04:29.525322Z",
     "start_time": "2017-12-08T15:04:29.079549Z"
    },
    "hidden": true
   },
   "outputs": [],
   "source": [
    "dep = 'Sales'\n",
    "joined_test[dep] = 0\n",
    "joined = joined[cat_vars+contin_vars+[dep, 'Date']].copy()\n",
    "joined_test = joined_test[cat_vars+contin_vars+[dep, 'Date', 'Id']].copy()"
   ]
  },
  {
   "cell_type": "code",
   "execution_count": 6,
   "metadata": {
    "ExecuteTime": {
     "end_time": "2017-12-08T15:04:30.743106Z",
     "start_time": "2017-12-08T15:04:29.528905Z"
    },
    "hidden": true
   },
   "outputs": [],
   "source": [
    "for v in cat_vars: joined[v] = joined[v].astype('category').cat.as_ordered()"
   ]
  },
  {
   "cell_type": "code",
   "execution_count": 7,
   "metadata": {
    "ExecuteTime": {
     "end_time": "2017-12-08T15:04:30.846070Z",
     "start_time": "2017-12-08T15:04:30.746620Z"
    },
    "hidden": true
   },
   "outputs": [],
   "source": [
    "apply_cats(joined_test, joined)"
   ]
  },
  {
   "cell_type": "code",
   "execution_count": 8,
   "metadata": {
    "ExecuteTime": {
     "end_time": "2017-12-08T15:04:31.235280Z",
     "start_time": "2017-12-08T15:04:30.850507Z"
    },
    "hidden": true
   },
   "outputs": [],
   "source": [
    "for v in contin_vars:\n",
    "    joined[v] = joined[v].astype('float32')\n",
    "    joined_test[v] = joined_test[v].astype('float32')"
   ]
  },
  {
   "cell_type": "code",
   "execution_count": 9,
   "metadata": {
    "ExecuteTime": {
     "end_time": "2017-12-08T15:04:31.357356Z",
     "start_time": "2017-12-08T15:04:31.240186Z"
    },
    "hidden": true
   },
   "outputs": [],
   "source": [
    "samp_size = n\n",
    "joined_samp = joined.set_index(\"Date\")"
   ]
  },
  {
   "cell_type": "code",
   "execution_count": 10,
   "metadata": {
    "ExecuteTime": {
     "end_time": "2017-12-08T15:04:36.993892Z",
     "start_time": "2017-12-08T15:04:31.359217Z"
    },
    "hidden": true
   },
   "outputs": [],
   "source": [
    "df, y, nas, mapper = proc_df(joined_samp, 'Sales', do_scale=True)\n",
    "yl = np.log(y)"
   ]
  },
  {
   "cell_type": "code",
   "execution_count": 11,
   "metadata": {
    "ExecuteTime": {
     "end_time": "2017-12-08T15:04:37.024499Z",
     "start_time": "2017-12-08T15:04:36.995892Z"
    },
    "hidden": true
   },
   "outputs": [],
   "source": [
    "joined_test = joined_test.set_index(\"Date\")"
   ]
  },
  {
   "cell_type": "code",
   "execution_count": 12,
   "metadata": {
    "ExecuteTime": {
     "end_time": "2017-12-08T15:04:37.316476Z",
     "start_time": "2017-12-08T15:04:37.027828Z"
    },
    "hidden": true
   },
   "outputs": [],
   "source": [
    "df_test, _, nas, mapper = proc_df(joined_test, 'Sales', do_scale=True, skip_flds=['Id'],\n",
    "                                  mapper=mapper, na_dict=nas)"
   ]
  },
  {
   "cell_type": "code",
   "execution_count": 13,
   "metadata": {
    "ExecuteTime": {
     "end_time": "2017-12-08T15:04:37.343460Z",
     "start_time": "2017-12-08T15:04:37.318201Z"
    },
    "hidden": true
   },
   "outputs": [],
   "source": [
    "train_ratio = 0.75\n",
    "# train_ratio = 0.9\n",
    "train_size = int(samp_size * train_ratio); train_size\n",
    "val_idx = list(range(train_size, len(df)))"
   ]
  },
  {
   "cell_type": "code",
   "execution_count": 14,
   "metadata": {
    "ExecuteTime": {
     "end_time": "2017-12-08T15:04:37.379310Z",
     "start_time": "2017-12-08T15:04:37.346304Z"
    },
    "hidden": true
   },
   "outputs": [],
   "source": [
    "val_idx = np.flatnonzero(\n",
    "    (df.index<=datetime.datetime(2014,9,17)) & (df.index>=datetime.datetime(2014,8,1)))"
   ]
  },
  {
   "cell_type": "code",
   "execution_count": 15,
   "metadata": {
    "ExecuteTime": {
     "end_time": "2017-12-08T15:04:37.412611Z",
     "start_time": "2017-12-08T15:04:37.381394Z"
    },
    "hidden": true
   },
   "outputs": [],
   "source": [
    "def inv_y(a): return np.exp(a)\n",
    "\n",
    "def exp_rmspe(y_pred, targ):\n",
    "    targ = inv_y(targ)\n",
    "    pct_var = (targ - inv_y(y_pred))/targ\n",
    "    return math.sqrt((pct_var**2).mean())\n",
    "\n",
    "max_log_y = np.max(yl)\n",
    "y_range = (0, max_log_y*1.2)"
   ]
  },
  {
   "cell_type": "code",
   "execution_count": 16,
   "metadata": {
    "ExecuteTime": {
     "end_time": "2017-12-08T15:04:38.041759Z",
     "start_time": "2017-12-08T15:04:37.415239Z"
    },
    "hidden": true
   },
   "outputs": [],
   "source": [
    "md = ColumnarModelData.from_data_frame(PATH, val_idx, df, yl.astype(np.float32), cat_flds=cat_vars, bs=128, \n",
    "                                       test_df=df_test)"
   ]
  },
  {
   "cell_type": "code",
   "execution_count": 17,
   "metadata": {
    "ExecuteTime": {
     "end_time": "2017-12-08T15:04:38.069203Z",
     "start_time": "2017-12-08T15:04:38.043494Z"
    },
    "hidden": true
   },
   "outputs": [],
   "source": [
    "cat_sz = [(c, len(joined_samp[c].cat.categories)+1) for c in cat_vars]"
   ]
  },
  {
   "cell_type": "code",
   "execution_count": 18,
   "metadata": {
    "ExecuteTime": {
     "end_time": "2017-12-08T15:04:38.096970Z",
     "start_time": "2017-12-08T15:04:38.070743Z"
    },
    "hidden": true
   },
   "outputs": [],
   "source": [
    "emb_szs = [(c, min(50, (c+1)//2)) for _,c in cat_sz]"
   ]
  },
  {
   "cell_type": "code",
   "execution_count": 19,
   "metadata": {
    "ExecuteTime": {
     "end_time": "2017-12-08T15:04:41.011861Z",
     "start_time": "2017-12-08T15:04:38.099390Z"
    },
    "hidden": true
   },
   "outputs": [],
   "source": [
    "m = md.get_learner(emb_szs=emb_szs, n_cont=len(df.columns)-len(cat_vars),\n",
    "                   emb_drop=0.04, out_sz=1, szs=[1000,500],drops= [0.001,0.01], y_range=y_range,use_bn=False)\n",
    "lr = 1e-3"
   ]
  },
  {
   "cell_type": "code",
   "execution_count": 21,
   "metadata": {
    "ExecuteTime": {
     "end_time": "2017-12-08T15:04:41.073380Z",
     "start_time": "2017-12-08T15:04:41.045084Z"
    },
    "hidden": true
   },
   "outputs": [],
   "source": [
    "#Loading the trained model\n",
    "m.load('rosmann0.10148')"
   ]
  },
  {
   "cell_type": "markdown",
   "metadata": {},
   "source": [
    "# Visualizing the embeddings with t-SNE"
   ]
  },
  {
   "cell_type": "code",
   "execution_count": 22,
   "metadata": {
    "ExecuteTime": {
     "end_time": "2017-12-08T15:04:41.098259Z",
     "start_time": "2017-12-08T15:04:41.075284Z"
    }
   },
   "outputs": [
    {
     "data": {
      "text/plain": [
       "[('Store', 1116),\n",
       " ('DayOfWeek', 8),\n",
       " ('Year', 4),\n",
       " ('Month', 13),\n",
       " ('Day', 32),\n",
       " ('StateHoliday', 3),\n",
       " ('CompetitionMonthsOpen', 26),\n",
       " ('Promo2Weeks', 27),\n",
       " ('StoreType', 5),\n",
       " ('Assortment', 4),\n",
       " ('PromoInterval', 4),\n",
       " ('CompetitionOpenSinceYear', 24),\n",
       " ('Promo2SinceYear', 9),\n",
       " ('State', 13),\n",
       " ('Week', 53),\n",
       " ('Events', 22),\n",
       " ('Promo_fw', 7),\n",
       " ('Promo_bw', 7),\n",
       " ('StateHoliday_fw', 4),\n",
       " ('StateHoliday_bw', 4),\n",
       " ('SchoolHoliday_fw', 9),\n",
       " ('SchoolHoliday_bw', 9)]"
      ]
     },
     "execution_count": 22,
     "metadata": {},
     "output_type": "execute_result"
    }
   ],
   "source": [
    "# List of Embeddings we can visualize\n",
    "cat_sz"
   ]
  },
  {
   "cell_type": "code",
   "execution_count": 23,
   "metadata": {
    "ExecuteTime": {
     "end_time": "2017-12-08T15:04:41.143376Z",
     "start_time": "2017-12-08T15:04:41.099850Z"
    }
   },
   "outputs": [],
   "source": [
    "#This function take one embedding from the layer group (choosen by index 'idx')\n",
    "#compute the visualization and plot it\n",
    "\n",
    "def idx2EmbPlot(idx,perplexity=30,early_exaggeration=12.0, learning_rate=200.0,ax=None):\n",
    "    Embedding_matrix = to_np(next(m.get_layer_groups()[0][idx].parameters()))\n",
    "    from sklearn.manifold import TSNE\n",
    "    X_embedded = TSNE(n_components=2, perplexity=perplexity, early_exaggeration=early_exaggeration, \n",
    "                      learning_rate=learning_rate,n_iter=1000, n_iter_without_progress=300, \n",
    "                      min_grad_norm=1e-07,metric='euclidean', init='random', verbose=0, \n",
    "                      random_state=42, method='barnes_hut', angle=0.5).fit_transform(Embedding_matrix)\n",
    "    \n",
    "    annotation = np.append(joined_samp[joined_samp.columns[idx]].cat.categories.values,\"Other\")\n",
    "    \n",
    "    \n",
    "    ax.scatter(X_embedded[:,0],X_embedded[:,1],c=range(len(annotation)),alpha=0.4)\n",
    "    for xy,target in zip(X_embedded,annotation):\n",
    "        if isinstance(target,np.str_) or isinstance(target,str):\n",
    "            text = target\n",
    "        else:\n",
    "            text = \"%d\" % target\n",
    "        ax.annotate(s=text,xy=(xy[0],xy[1]))\n",
    "        ax.set_title(joined_samp.columns[idx])\n"
   ]
  },
  {
   "cell_type": "code",
   "execution_count": 24,
   "metadata": {
    "ExecuteTime": {
     "end_time": "2017-12-08T15:04:42.932798Z",
     "start_time": "2017-12-08T15:04:41.145097Z"
    }
   },
   "outputs": [
    {
     "data": {
      "image/png": "[encoded data removed]",
      "text/plain": [
       "<matplotlib.figure.Figure at 0x7f91a6a2fcc0>"
      ]
     },
     "metadata": {},
     "output_type": "display_data"
    }
   ],
   "source": [
    "#Example: for the State embedding (idx=13) we plot for different values of Perplexities\n",
    "\n",
    "Perplexities = [2,4,5,10,25]\n",
    "\n",
    "fig, axes = plt.subplots(nrows=1,ncols=len(Perplexities))\n",
    "fig.set_figheight(5)\n",
    "fig.set_figwidth(20)\n",
    "for i,per in enumerate(Perplexities):\n",
    "    idx2EmbPlot(13,per,ax=axes[i])\n"
   ]
  },
  {
   "cell_type": "code",
   "execution_count": 26,
   "metadata": {
    "ExecuteTime": {
     "end_time": "2017-12-08T15:16:27.262724Z",
     "start_time": "2017-12-08T15:16:27.060522Z"
    }
   },
   "outputs": [],
   "source": [
    "fig.savefig('StateEmbeddings')"
   ]
  }
 ],
 "metadata": {
  "kernelspec": {
   "display_name": "Python 3",
   "language": "python",
   "name": "python3"
  },
  "language_info": {
   "codemirror_mode": {
    "name": "ipython",
    "version": 3
   },
   "file_extension": ".py",
   "mimetype": "text/x-python",
   "name": "python",
   "nbconvert_exporter": "python",
   "pygments_lexer": "ipython3",
   "version": "3.6.3"
  },
  "toc": {
   "nav_menu": {},
   "number_sections": true,
   "sideBar": true,
   "skip_h1_title": false,
   "toc_cell": false,
   "toc_position": {},
   "toc_section_display": "block",
   "toc_window_display": false
  }
 },
 "nbformat": 4,
 "nbformat_minor": 2
}
